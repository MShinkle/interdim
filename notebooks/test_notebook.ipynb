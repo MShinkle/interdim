{
 "cells": [
  {
   "cell_type": "code",
   "execution_count": 2,
   "metadata": {},
   "outputs": [
    {
     "data": {
      "text/html": [
       "\n",
       "        <iframe\n",
       "            width=\"100%\"\n",
       "            height=\"650\"\n",
       "            src=\"http://127.0.0.1:8050/\"\n",
       "            frameborder=\"0\"\n",
       "            allowfullscreen\n",
       "            \n",
       "        ></iframe>\n",
       "        "
      ],
      "text/plain": [
       "<IPython.lib.display.IFrame at 0x7f435c481580>"
      ]
     },
     "metadata": {},
     "output_type": "display_data"
    }
   ],
   "source": [
    "import numpy as np\n",
    "from interdim.viz import interactive_scatterplot\n",
    "import plotly.graph_objects as go\n",
    "\n",
    "# Sample interaction function\n",
    "\n",
    "# Generate some random data for a 3D plot\n",
    "x = np.random.rand(100)\n",
    "y = np.random.rand(100)\n",
    "z = np.random.rand(100)\n",
    "\n",
    "def sample_interact_fn(index, fig):\n",
    "    fig.data = []  # Clear existing data\n",
    "    fig.add_trace(go.Scatter(x=np.arange(10), y=np.random.randn(10), mode='lines'))\n",
    "\n",
    "# Example usage for 2D plot\n",
    "# interactive_scatterplot(x_2d, y_2d, sample_interact_fn, x_label='X-axis', y_label='Y-axis')\n",
    "\n",
    "# Example usage for 3D plot\n",
    "interactive_scatterplot(x, y, z, interact_fn=sample_interact_fn, interact_mode='click')"
   ]
  }
 ],
 "metadata": {
  "kernelspec": {
   "display_name": "pomlab",
   "language": "python",
   "name": "python3"
  },
  "language_info": {
   "codemirror_mode": {
    "name": "ipython",
    "version": 3
   },
   "file_extension": ".py",
   "mimetype": "text/x-python",
   "name": "python",
   "nbconvert_exporter": "python",
   "pygments_lexer": "ipython3",
   "version": "3.8.18"
  }
 },
 "nbformat": 4,
 "nbformat_minor": 2
}
