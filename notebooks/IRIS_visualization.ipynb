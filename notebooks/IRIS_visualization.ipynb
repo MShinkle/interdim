{
 "cells": [
  {
   "cell_type": "markdown",
   "metadata": {},
   "source": [
    "# Iris Species Analysis with interdim\n",
    "\n",
    "In this notebook, we'll demonstrate how to use the `interdim` package to analyze and visualize data using a very simple example: the Iris dataset. We'll perform dimensionality reduction, clustering, and interactive visualization of the data.\n",
    "\n",
    "This just involves loading the data, creating an interdim pipeline object, and then just using the included methods to reduce, cluster, and visualize the data."
   ]
  },
  {
   "cell_type": "code",
   "execution_count": null,
   "metadata": {},
   "outputs": [],
   "source": [
    "from sklearn.datasets import load_iris\n",
    "from interdim import InterDimAnalysis\n",
    "\n",
    "iris = load_iris()\n",
    "\n",
    "analysis = InterDimAnalysis(iris.data, true_labels=iris.target, verbose=True)\n",
    "analysis.reduce(method=\"tsne\", n_components=3)\n",
    "analysis.cluster(method=\"dbscan\")\n",
    "analysis.score(method=\"adjusted_rand\")\n",
    "analysis.show(which_data=\"reduced\", point_visualization=\"bar\")"
   ]
  },
  {
   "cell_type": "markdown",
   "metadata": {},
   "source": [
    "If you want to customize the bar plot, you can do so by passing an InteractionPlot object instead of just 'bar'. You can customize all sorts of things in this way!"
   ]
  },
  {
   "cell_type": "code",
   "execution_count": null,
   "metadata": {},
   "outputs": [],
   "source": [
    "from interdim import InteractionPlot\n",
    "\n",
    "point_visualization = InteractionPlot(\n",
    "    iris.data, plot_type=\"bar\", trace_kwargs={\"x\": iris.feature_names}\n",
    ")\n",
    "analysis.show(\n",
    "    which_data=\"reduced\",\n",
    "    point_visualization=point_visualization,\n",
    "    marker_kwargs={\"size\": 7, \"opacity\": 0.5},\n",
    "    scatter_kwargs={\n",
    "        \"text\": iris.target_names[iris.target],\n",
    "        \"hovertemplate\": \"%{text}<extra></extra>\",\n",
    "    },\n",
    ")"
   ]
  },
  {
   "cell_type": "markdown",
   "metadata": {},
   "source": [
    "Feel free to try out different reduction methods (we find UMAP tends to work the best), different clustering methods, different visualization types, etc."
   ]
  }
 ],
 "metadata": {
  "kernelspec": {
   "display_name": "sapc",
   "language": "python",
   "name": "python3"
  },
  "language_info": {
   "codemirror_mode": {
    "name": "ipython",
    "version": 3
   },
   "file_extension": ".py",
   "mimetype": "text/x-python",
   "name": "python",
   "nbconvert_exporter": "python",
   "pygments_lexer": "ipython3",
   "version": "3.10.14"
  }
 },
 "nbformat": 4,
 "nbformat_minor": 2
}
