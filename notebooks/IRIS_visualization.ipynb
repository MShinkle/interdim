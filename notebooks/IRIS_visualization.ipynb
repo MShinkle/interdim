{
 "cells": [
  {
   "cell_type": "markdown",
   "metadata": {},
   "source": [
    "# Iris Species Analysis with interdim\n",
    "\n",
    "In this notebook, we'll demonstrate how to use the `interdim` package to analyze and visualize data using a very simple example: the Iris dataset. We'll perform dimensionality reduction, clustering, and interactive visualization of the data.\n",
    "\n",
    "This just involves loading the data, creating an interdim pipeline object, and then just using the included methods to reduce, cluster, and visualize the data."
   ]
  },
  {
   "cell_type": "code",
   "execution_count": 1,
   "metadata": {},
   "outputs": [
    {
     "name": "stdout",
     "output_type": "stream",
     "text": [
      "Performing dimensionality reduction via TSNE with default arguments.\n",
      "Reduced data shape: (150, 3)\n",
      "Performing clustering via DBSCAN with default arguments.\n",
      "Clustering complete. Number of clusters: 1\n",
      "Clustering Evaluation Result (adjusted_rand):\n",
      "Score: 0.0\n"
     ]
    },
    {
     "data": {
      "text/html": [
       "\n",
       "        <iframe\n",
       "            width=\"100%\"\n",
       "            height=\"650\"\n",
       "            src=\"http://127.0.0.1:33717/\"\n",
       "            frameborder=\"0\"\n",
       "            allowfullscreen\n",
       "            \n",
       "        ></iframe>\n",
       "        "
      ],
      "text/plain": [
       "<IPython.lib.display.IFrame at 0x7488b73c9970>"
      ]
     },
     "metadata": {},
     "output_type": "display_data"
    },
    {
     "data": {
      "text/plain": [
       "<dash.dash.Dash at 0x7488bc16a930>"
      ]
     },
     "execution_count": 1,
     "metadata": {},
     "output_type": "execute_result"
    }
   ],
   "source": [
    "from sklearn.datasets import load_iris\n",
    "from interdim import InterDimAnalysis\n",
    "\n",
    "iris = load_iris()\n",
    "\n",
    "analysis = InterDimAnalysis(iris.data, true_labels=iris.target, verbose=True)\n",
    "analysis.reduce(method='tsne', n_components=3)\n",
    "analysis.cluster(method='dbscan')\n",
    "analysis.score(method='adjusted_rand')\n",
    "analysis.show(which_data='reduced', point_visualization='bar')"
   ]
  },
  {
   "cell_type": "markdown",
   "metadata": {},
   "source": [
    "If you want to customize the bar plot, you can do so by passing an InteractionPlot object instead of just 'bar'. You can customize all sorts of things in this way!"
   ]
  },
  {
   "cell_type": "code",
   "execution_count": 2,
   "metadata": {},
   "outputs": [
    {
     "data": {
      "text/html": [
       "\n",
       "        <iframe\n",
       "            width=\"100%\"\n",
       "            height=\"650\"\n",
       "            src=\"http://127.0.0.1:34219/\"\n",
       "            frameborder=\"0\"\n",
       "            allowfullscreen\n",
       "            \n",
       "        ></iframe>\n",
       "        "
      ],
      "text/plain": [
       "<IPython.lib.display.IFrame at 0x7488b7215220>"
      ]
     },
     "metadata": {},
     "output_type": "display_data"
    },
    {
     "data": {
      "text/plain": [
       "<dash.dash.Dash at 0x7488b7130350>"
      ]
     },
     "execution_count": 2,
     "metadata": {},
     "output_type": "execute_result"
    }
   ],
   "source": [
    "from interdim import InterDimAnalysis, InteractionPlot\n",
    "\n",
    "point_visualization = InteractionPlot(iris.data, plot_type='bar', trace_kwargs={'x': iris.feature_names})\n",
    "analysis.show(which_data='reduced', point_visualization=point_visualization)"
   ]
  },
  {
   "cell_type": "markdown",
   "metadata": {},
   "source": [
    "Feel free to try out different reduction methods (we find UMAP tends to work the best), different clustering methods, different visualization types, etc."
   ]
  }
 ],
 "metadata": {
  "kernelspec": {
   "display_name": "sapc",
   "language": "python",
   "name": "python3"
  },
  "language_info": {
   "codemirror_mode": {
    "name": "ipython",
    "version": 3
   },
   "file_extension": ".py",
   "mimetype": "text/x-python",
   "name": "python",
   "nbconvert_exporter": "python",
   "pygments_lexer": "ipython3",
   "version": "3.12.4"
  }
 },
 "nbformat": 4,
 "nbformat_minor": 2
}
