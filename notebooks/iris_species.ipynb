{
 "cells": [
  {
   "cell_type": "code",
   "execution_count": 1,
   "metadata": {},
   "outputs": [
    {
     "name": "stdout",
     "output_type": "stream",
     "text": [
      "Performing dimensionality reduction via UMAP with default arguments.\n",
      "Reduced data shape: (150, 3)\n",
      "Performing clustering via DBSCAN with default arguments.\n",
      "Clustering complete. Number of clusters: 7\n",
      "Clustering Evaluation Result (adjusted_rand):\n",
      "Score: 0.558913061691848\n"
     ]
    },
    {
     "data": {
      "text/html": [
       "\n",
       "        <iframe\n",
       "            width=\"100%\"\n",
       "            height=\"650\"\n",
       "            src=\"http://127.0.0.1:8050/\"\n",
       "            frameborder=\"0\"\n",
       "            allowfullscreen\n",
       "            \n",
       "        ></iframe>\n",
       "        "
      ],
      "text/plain": [
       "<IPython.lib.display.IFrame at 0x7450d32f2480>"
      ]
     },
     "metadata": {},
     "output_type": "display_data"
    },
    {
     "data": {
      "text/plain": [
       "<dash.dash.Dash at 0x7450d37706e0>"
      ]
     },
     "execution_count": 1,
     "metadata": {},
     "output_type": "execute_result"
    }
   ],
   "source": [
    "from sklearn.datasets import load_iris\n",
    "from interdim import InterDimAnalysis\n",
    "\n",
    "iris = load_iris()\n",
    "\n",
    "analysis = InterDimAnalysis(iris.data, true_labels=iris.target, verbose=True)\n",
    "analysis.reduce(method='tsne', n_components=3)\n",
    "analysis.cluster(method='dbscan')\n",
    "analysis.score(method='adjusted_rand')\n",
    "analysis.show(which_data='reduced', n_components=3, point_visualization='bar')"
   ]
  }
 ],
 "metadata": {
  "kernelspec": {
   "display_name": "sapc",
   "language": "python",
   "name": "python3"
  },
  "language_info": {
   "codemirror_mode": {
    "name": "ipython",
    "version": 3
   },
   "file_extension": ".py",
   "mimetype": "text/x-python",
   "name": "python",
   "nbconvert_exporter": "python",
   "pygments_lexer": "ipython3",
   "version": "3.12.4"
  }
 },
 "nbformat": 4,
 "nbformat_minor": 2
}
