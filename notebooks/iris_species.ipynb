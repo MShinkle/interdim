{
 "cells": [
  {
   "cell_type": "code",
   "execution_count": 5,
   "metadata": {},
   "outputs": [
    {
     "name": "stdout",
     "output_type": "stream",
     "text": [
      "Performing dimensionality reduction via TSNE with default arguments.\n",
      "Reduced data shape: (150, 3)\n",
      "Performing clustering via DBSCAN with default arguments.\n",
      "Clustering complete. Number of clusters: 1\n",
      "Clustering Evaluation Result (adjusted_rand):\n",
      "Score: 0.0\n"
     ]
    },
    {
     "data": {
      "text/html": [
       "\n",
       "        <iframe\n",
       "            width=\"100%\"\n",
       "            height=\"650\"\n",
       "            src=\"http://127.0.0.1:8001/\"\n",
       "            frameborder=\"0\"\n",
       "            allowfullscreen\n",
       "            \n",
       "        ></iframe>\n",
       "        "
      ],
      "text/plain": [
       "<IPython.lib.display.IFrame at 0x7fb9102ecef0>"
      ]
     },
     "metadata": {},
     "output_type": "display_data"
    }
   ],
   "source": [
    "from sklearn.datasets import load_iris\n",
    "from interdim import InterDimAnalysis\n",
    "\n",
    "iris = load_iris()\n",
    "\n",
    "analysis = InterDimAnalysis(iris.data, true_labels=iris.target, verbose=True)\n",
    "analysis.reduce(method='tsne', n_components=3)\n",
    "analysis.cluster(method='dbscan')\n",
    "analysis.score(method='adjusted_rand')\n",
    "app = analysis.show(which_data='reduced', n_components=3, run_server=False, point_visualization='bar')\n",
    "app.run(port=8001)"
   ]
  },
  {
   "cell_type": "code",
   "execution_count": 7,
   "metadata": {},
   "outputs": [
    {
     "name": "stderr",
     "output_type": "stream",
     "text": [
      "/tmp/ipykernel_52710/2949469083.py:5: UserWarning:\n",
      "\n",
      "n_components (2) is different than the number of data features (3), only the first 2 components will be shown.\n",
      "\n"
     ]
    },
    {
     "data": {
      "text/html": [
       "\n",
       "        <iframe\n",
       "            width=\"100%\"\n",
       "            height=\"650\"\n",
       "            src=\"http://127.0.0.1:8001/\"\n",
       "            frameborder=\"0\"\n",
       "            allowfullscreen\n",
       "            \n",
       "        ></iframe>\n",
       "        "
      ],
      "text/plain": [
       "<IPython.lib.display.IFrame at 0x7fb8863a5910>"
      ]
     },
     "metadata": {},
     "output_type": "display_data"
    }
   ],
   "source": [
    "import numpy as np\n",
    "from interdim.vis import InteractionPlot\n",
    "\n",
    "point_visualization = InteractionPlot(data_source=lambda idx: np.random.randint(0,255,(10,10,3)), plot_type='Image')\n",
    "app = analysis.show(which_data='reduced', n_components=2, run_server=False, point_visualization=point_visualization)\n",
    "app.run(port=8001)"
   ]
  }
 ],
 "metadata": {
  "kernelspec": {
   "display_name": "sapc",
   "language": "python",
   "name": "python3"
  },
  "language_info": {
   "codemirror_mode": {
    "name": "ipython",
    "version": 3
   },
   "file_extension": ".py",
   "mimetype": "text/x-python",
   "name": "python",
   "nbconvert_exporter": "python",
   "pygments_lexer": "ipython3",
   "version": "3.12.4"
  }
 },
 "nbformat": 4,
 "nbformat_minor": 2
}
