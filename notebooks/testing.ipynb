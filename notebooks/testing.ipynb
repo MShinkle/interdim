{
 "cells": [
  {
   "cell_type": "code",
   "execution_count": 1,
   "metadata": {},
   "outputs": [
    {
     "name": "stdout",
     "output_type": "stream",
     "text": [
      "Performing dimensionality reduction via UMAP with default arguments.\n",
      "Reduced data shape: (150, 2)\n",
      "Performing clustering via DBSCAN with default arguments.\n",
      "Clustering complete. Number of clusters: 7\n"
     ]
    },
    {
     "data": {
      "text/html": [
       "\n",
       "        <iframe\n",
       "            width=\"100%\"\n",
       "            height=\"650\"\n",
       "            src=\"http://127.0.0.1:8050/\"\n",
       "            frameborder=\"0\"\n",
       "            allowfullscreen\n",
       "            \n",
       "        ></iframe>\n",
       "        "
      ],
      "text/plain": [
       "<IPython.lib.display.IFrame at 0x7f1734b90640>"
      ]
     },
     "metadata": {},
     "output_type": "display_data"
    },
    {
     "name": "stdout",
     "output_type": "stream",
     "text": [
      "Clustering Evaluation Result (adjusted_rand):\n",
      "Score: 0.5623685462709377\n",
      "clustering score: 0.5623685462709377\n"
     ]
    }
   ],
   "source": [
    "from sklearn.datasets import load_iris\n",
    "from interdim import InterDimAnalysis\n",
    "from plotly import graph_objects as go\n",
    "\n",
    "iris = load_iris()\n",
    "\n",
    "def plot_bar(index, fig):\n",
    "    fig.data = []\n",
    "    fig.add_trace(go.Bar(y=iris.data[index], x=iris.feature_names))\n",
    "    fig.update_layout(\n",
    "        title=f'Data for Point {index}',\n",
    "    )\n",
    "\n",
    "analysis = InterDimAnalysis(iris.data, true_labels=iris.target, verbose=True)\n",
    "analysis.reduce(method='umap', n_components=2)\n",
    "analysis.cluster(method='dbscan')\n",
    "analysis.score(method='adjusted_rand')\n",
    "analysis.show(which_data='reduced', n_components=2, interact_fn=plot_bar)"
   ]
  }
 ],
 "metadata": {
  "kernelspec": {
   "display_name": "sapc",
   "language": "python",
   "name": "python3"
  },
  "language_info": {
   "codemirror_mode": {
    "name": "ipython",
    "version": 3
   },
   "file_extension": ".py",
   "mimetype": "text/x-python",
   "name": "python",
   "nbconvert_exporter": "python",
   "pygments_lexer": "ipython3",
   "version": "3.8.18"
  }
 },
 "nbformat": 4,
 "nbformat_minor": 2
}
