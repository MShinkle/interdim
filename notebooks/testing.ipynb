{
 "cells": [
  {
   "cell_type": "code",
   "execution_count": 1,
   "metadata": {},
   "outputs": [],
   "source": [
    "import numpy as np\n",
    "\n",
    "n_samples = 1000\n",
    "n_features = 30\n",
    "\n",
    "X = np.vstack([\n",
    "    np.random.normal(0, 1, (n_samples // 3, n_features)),\n",
    "    np.random.normal(1, 1, (n_samples // 3, n_features)),\n",
    "    np.random.normal(-1, 1, (n_samples // 3, n_features)),\n",
    "])"
   ]
  },
  {
   "cell_type": "code",
   "execution_count": 7,
   "metadata": {},
   "outputs": [
    {
     "name": "stdout",
     "output_type": "stream",
     "text": [
      "Starting InterDim analysis pipeline\n",
      "Performing dimensionality reduction using UMAP with the following custom params:\n",
      "\t{}\n",
      "Reduced data shape: (999, 3)\n",
      "Performing clustering using DBSCAN with the following custom params:\n",
      "\t{}\n",
      "Clustering complete. Number of clusters: 3\n",
      "Generating interactive visualization\n"
     ]
    },
    {
     "data": {
      "text/html": [
       "\n",
       "        <iframe\n",
       "            width=\"100%\"\n",
       "            height=\"650\"\n",
       "            src=\"http://127.0.0.1:8050/\"\n",
       "            frameborder=\"0\"\n",
       "            allowfullscreen\n",
       "            \n",
       "        ></iframe>\n",
       "        "
      ],
      "text/plain": [
       "<IPython.lib.display.IFrame at 0x21ca55f8860>"
      ]
     },
     "metadata": {},
     "output_type": "display_data"
    },
    {
     "data": {
      "text/plain": [
       "<interdim.pipeline.InterDimAnalysis at 0x21ca5301b20>"
      ]
     },
     "execution_count": 7,
     "metadata": {},
     "output_type": "execute_result"
    }
   ],
   "source": [
    "from plotly import graph_objects as go\n",
    "from interdim import analyze_and_visualize\n",
    "\n",
    "def plot_line(index, fig):\n",
    "    fig.data = []\n",
    "    fig.add_trace(go.Scatter(y=X[index]))\n",
    "    fig.update_layout(\n",
    "        title=f'Data for Point {index}',\n",
    "    )\n",
    "\n",
    "analyze_and_visualize(X, reduction_method='umap', clustering_method='dbscan', viz_func=plot_line, n_components=3)"
   ]
  }
 ],
 "metadata": {
  "kernelspec": {
   "display_name": "sapc",
   "language": "python",
   "name": "python3"
  },
  "language_info": {
   "codemirror_mode": {
    "name": "ipython",
    "version": 3
   },
   "file_extension": ".py",
   "mimetype": "text/x-python",
   "name": "python",
   "nbconvert_exporter": "python",
   "pygments_lexer": "ipython3",
   "version": "3.12.5"
  }
 },
 "nbformat": 4,
 "nbformat_minor": 2
}
