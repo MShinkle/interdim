{
 "cells": [
  {
   "cell_type": "code",
   "execution_count": 1,
   "metadata": {},
   "outputs": [],
   "source": [
    "import numpy as np\n",
    "\n",
    "n_samples = 1000\n",
    "n_features = 30\n",
    "\n",
    "X = np.vstack([\n",
    "    np.random.normal(0, 1, (n_samples // 3, n_features)),\n",
    "    np.random.normal(1, 1, (n_samples // 3, n_features)),\n",
    "    np.random.normal(-1, 1, (n_samples // 3, n_features)),\n",
    "])\n",
    "\n",
    "true_labels = np.concatenate([\n",
    "    np.full(n_samples // 3, 0),\n",
    "    np.full(n_samples // 3, 1),\n",
    "    np.full(n_samples // 3, 2)\n",
    "])"
   ]
  },
  {
   "cell_type": "code",
   "execution_count": 2,
   "metadata": {},
   "outputs": [
    {
     "name": "stdout",
     "output_type": "stream",
     "text": [
      "Performing dimensionality reduction using UMAP with the following custom params:\n",
      "\t{}\n",
      "Reduced data shape: (999, 3)\n",
      "Performing clustering using DBSCAN with the following custom params:\n",
      "\t{}\n",
      "Clustering complete. Number of clusters: 4\n",
      "Clustering Evaluation Result (adjusted_rand):\n",
      "Score: 0.9731088141141226\n",
      "Generating interactive visualization\n"
     ]
    },
    {
     "data": {
      "text/html": [
       "\n",
       "        <iframe\n",
       "            width=\"100%\"\n",
       "            height=\"650\"\n",
       "            src=\"http://127.0.0.1:8050/\"\n",
       "            frameborder=\"0\"\n",
       "            allowfullscreen\n",
       "            \n",
       "        ></iframe>\n",
       "        "
      ],
      "text/plain": [
       "<IPython.lib.display.IFrame at 0x2410e43d910>"
      ]
     },
     "metadata": {},
     "output_type": "display_data"
    },
    {
     "name": "stdout",
     "output_type": "stream",
     "text": [
      "Reduced data shape: (999, 3)\n",
      "Number of clusters: 4\n",
      "Clustering score: 0.9731088141141226\n"
     ]
    }
   ],
   "source": [
    "from interdim import InterDimAnalysis\n",
    "from plotly import graph_objects as go\n",
    "\n",
    "def plot_line(index, fig):\n",
    "    fig.data = []\n",
    "    fig.add_trace(go.Scatter(y=X[index]))\n",
    "    fig.update_layout(\n",
    "        title=f'Data for Point {index}',\n",
    "    )\n",
    "\n",
    "analysis = InterDimAnalysis(X, true_labels=true_labels, viz_func=plot_line, verbose=True)\n",
    "analysis.reduce(method='umap', n_components=3)\n",
    "analysis.cluster(method='dbscan')\n",
    "analysis.score(method='adjusted_rand')\n",
    "analysis.visualize(n_components=3)\n",
    "\n",
    "print(\"Reduced data shape:\", analysis.reduced_data.shape)\n",
    "print(\"Number of clusters:\", len(set(analysis.cluster_labels)))\n",
    "if hasattr(analysis, 'score_value'):\n",
    "    print(\"Clustering score:\", analysis.score_value)"
   ]
  }
 ],
 "metadata": {
  "kernelspec": {
   "display_name": "sapc",
   "language": "python",
   "name": "python3"
  },
  "language_info": {
   "codemirror_mode": {
    "name": "ipython",
    "version": 3
   },
   "file_extension": ".py",
   "mimetype": "text/x-python",
   "name": "python",
   "nbconvert_exporter": "python",
   "pygments_lexer": "ipython3",
   "version": "3.12.5"
  }
 },
 "nbformat": 4,
 "nbformat_minor": 2
}
